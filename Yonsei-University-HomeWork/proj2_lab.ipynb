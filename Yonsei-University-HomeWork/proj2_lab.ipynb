{
 "nbformat": 4,
 "nbformat_minor": 0,
 "metadata": {
  "colab": {
   "provenance": [
    {
     "file_id": "1z2-whOBA2uBslFo3qVy-JS8P86vVW33j",
     "timestamp": 1669899809979
    },
    {
     "file_id": "1xqdHDL9suDJhDXOdUT9TrR2znFNAxg52",
     "timestamp": 1668049647097
    },
    {
     "file_id": "1S3Hlqt-nNNriGM1QOpuD23tlCn31Ykz_",
     "timestamp": 1651113595545
    }
   ]
  },
  "kernelspec": {
   "name": "python3",
   "display_name": "Python 3"
  },
  "language_info": {
   "name": "python"
  }
 },
 "cells": [
  {
   "cell_type": "markdown",
   "source": [
    "# Project 2\n",
    "# Rebalancing Strategy \n",
    "\n",
    "#### 2022-2학기\n",
    "#### Version: 2022-11-11-v1\n",
    "\n",
    "> 분반:\n",
    ">\n",
    "> 학번:\n",
    ">\n",
    "> 학과:\n",
    ">\n",
    "> 이름:\n",
    "\n",
    "### To Do List\n",
    "\n",
    "- rebalancing() 완성 (만약 BTC, ETH 외의 암호화폐를 추가적으로 고려하고 싶은 경우)\n",
    "- 여러 자산 비율을 사용하여 성능 테스트\n",
    "-译：完成rebalancing() (如果想追加考虑BTC、 ETH以外的加密货币)\n",
    "-译：使用多个资产比率进行性能测试"
   ],
   "metadata": {
    "id": "NlY5bYudAnHa"
   }
  },
  {
   "cell_type": "code",
   "source": [
    "# 런타임이 종료되면 이 코드셀은 매번 다시 실행해야 합니다. \n",
    "#译：运行时间结束后，这个code cell（代码单元）每次都要重新运行。\n",
    "\n",
    "# pyupbit 설치 （安装pyupbit）\n",
    "!pip install pyupbit"
   ],
   "metadata": {
    "id": "9PuoRkgJ1oJa"
   },
   "execution_count": null,
   "outputs": []
  },
  {
   "cell_type": "code",
   "execution_count": 1,
   "metadata": {
    "id": "BT-LddYo1g0w"
   },
   "outputs": [],
   "source": [
    "# Import\n",
    "\n",
    "import numpy as np\n",
    "import pandas as pd\n",
    "import datetime\n",
    "\n",
    "import pyupbit\n"
   ]
  },
  {
   "cell_type": "code",
   "source": [
    "# trading_helper 설치 및 버전 확인 （译： trading_helper 安装和版本确认）\n",
    "\n",
    "# !wget https://esohn.be/python/trading_helper.py -O trading_helper.py\n",
    "\n",
    "import trading_helper\n",
    "import importlib\n",
    "importlib.reload(trading_helper)\n",
    "\n",
    "print( f'Trading Helper Version: {trading_helper.TRADING_HELPER_VERSION}'  )"
   ],
   "metadata": {
    "id": "He3RBCBrNloT"
   },
   "execution_count": 2,
   "outputs": [
    {
     "name": "stdout",
     "output_type": "stream",
     "text": [
      "Trading Helper Version: 2022.11.30-v1\n"
     ]
    }
   ]
  },
  {
   "cell_type": "markdown",
   "source": [
    "### AUTH_CODE는 반드시 자신의 Auth Code로 변경해야 합니다.\n",
    "#译：AUTH_CODE必须更改为自己的Auth Code。"
   ],
   "metadata": {
    "id": "iGOo80w1qHn9"
   }
  },
  {
   "cell_type": "code",
   "source": [
    "# ------------------------------------------------------------------------------------------------------\n",
    "# https://esohn.be/account 의 AUTH CODE 입력\n",
    "# ------------------------------------------------------------------------------------------------------\n",
    "\n",
    "'''\n",
    "AUTH_CODE = 'f587ea651febd5446efc61d5e3fef123'  -> 아래에 이렇게 auth code를 붙여넣으세요.（请在下面这样粘贴auth code。）\n",
    "'''\n",
    "AUTH_CODE = '2319d129e17e2cd365363ef4ebfb4596'\n",
    "\n",
    "# Do not edit\n",
    "trading_helper.set_auth_code( AUTH_CODE )\n"
   ],
   "metadata": {
    "id": "SKPplX5TI8mf"
   },
   "execution_count": 3,
   "outputs": [
    {
     "name": "stdout",
     "output_type": "stream",
     "text": [
      "Log updated! (2022-2 YCS1009-01 CAI, LUYAO)\n"
     ]
    }
   ]
  },
  {
   "cell_type": "markdown",
   "source": [
    "### 아래 코드셀을 복사 해서 프로젝트 코드 페이지에 붙여넣으세요\n",
    "#译：复制下面的code cell（代码单元）并粘贴到项目code页上\n",
    "\n",
    "\n"
   ],
   "metadata": {
    "id": "cUCfeNR8YEM3"
   }
  },
  {
   "cell_type": "code",
   "source": [
    "# ------------------------------------------------------------------------------------------------------\n",
    "# - 코드를 완성했다면 이 코드셀만 복사해서 competition 페이지 Volatility Breakout 탭에 라운드 별 코드 항목으로 붙여넣습니다.\n",
    "# - 연습할 때는 https://esohn.be/competition 페이지의 에디터에서 직접 연습하지 말고 Colab에서 연습하세요. \n",
    "#   (노트북 연습 횟수가 서버에 기록되며 또 노트북 자체에 변경 history가 축척 됩니다.)\n",
    "#译：\n",
    "#完成代码后，只需复制此代码单元（code cell）并将其作为每轮代码条目粘贴到competition页面的“Volatility Breakout”中。\n",
    "#练习的时候不要在https://esohn.be/competition页面的编辑, 请在Colab里练习\n",
    "#（笔记本电脑练习次数将被记录在服务器上，笔记本电脑本身也会积累变更history。）\n",
    "# ------------------------------------------------------------------------------------------------------\n",
    "\n",
    "# Given Code Version 2022.11.10-v1\n",
    "\n",
    "import numpy as np\n",
    "import pandas as pd\n",
    "import datetime\n",
    "\n",
    "# rebalancing() 암호화폐 포트폴리오 리밸런싱 함수 译：rebalancing() Cryptocurrency portfolio rebalancing函数\n",
    "'''\n",
    "* ratio_  자산배분 비율 (총 합은 반드시 1.0이어야 함)\n",
    "  투자하지 않는 암호화폐는 0으로 남겨둠\n",
    "译：ratio_ 资产配置比率( 总计必须为 1.0)\n",
    "  不投资的Cryptocurrency保留为0\n",
    "  \n",
    "  예) 원화 10%, 비트코인(BTC) 50%, 이더리움(ETH) 40%  （例如,韩元10%、比特币(BTC)50%、Ethereum(ETH)）\n",
    "      ratio_krw = 0.1\n",
    "      ratio_btc = 0.5\n",
    "      ratio_eth = 0.4\n",
    "      ratio_doge = 0.0\n",
    "      ratio_ada = 0.0\n",
    "\n",
    "  예) 원화 70%, 비트코인(BTC) 10%, 이더리움(ETH) 10%, 도지코인(DOGE) 5%, 에이다(ADA) 5%  （例如,韩元70%、比特币(BTC)10%、Ethereum(ETH)10%、Dogecoin(DOGE)5%、Ada(ADA)5%）\n",
    "      ratio_krw = 0.7\n",
    "      ratio_btc = 0.1\n",
    "      ratio_eth = 0.1\n",
    "      ratio_doge = 0.05\n",
    "      ratio_ada = 0.05\n",
    "\n",
    "* threshold - 최소한으로 요구되는 총 자산 대비 변동 비율 (%) （* threshold - 最低要求总资产与变动比率(%)）\n",
    "\n",
    "  기본값 0: 조금이라도 변동될 때 매매 （基本值 0: 稍有变动时买卖）\n",
    "  예) 0.001: 전체 자산의 0.1% 변동시 매매, 0.005: 전체 자산의 0.5% 변동시 매매 （例) 0.001:全体资产的0.1%变动时买卖,0.005:全体资产的0.5%变动时买卖）\n",
    "\n",
    "\n",
    "* fee - 수수료, 기본값 0.001 (변경 없음)  （fee - 手续费， 默认值/基本值 0.001 (无变化)）\n",
    "\n",
    "* init_krw - 초기 투자금액, 기본값 100000000 (변경 없음) （init_krw - 初始投资金额， 默认值/基本值为 10000000 (无变化)）\n",
    "'''\n",
    "\n",
    "# Qualification 라운드 에서는 지정된 암호화폐 비율과 threshold 0.0을 사용해야 하며 （Qualification回合中必须使用指定的Cryptocurrency比率和threshold 0.0）\n",
    "# 그 외의 라운드에서는 암포화폐 비율과 threshold를 자유롭게 사용할 수 있음 （在其他回合中，可以自由使用Cryptocurrency比率和threshold。）\n",
    "\n",
    "# ------------------------------------------------\n",
    "# EDITABLE (1)\n",
    "#\n",
    "DEFAULT_RATIO_KRW = 1.0\n",
    "DEFAULT_RATIO_BTC = 0.0\n",
    "DEFAULT_RATIO_ETH = 0.0\n",
    "DEFAULT_RATIO_DOGE = 0.0\n",
    "DEFAULT_RATIO_ADA = 0.0\n",
    "\n",
    "DEFAULT_THRESHOLD = 0.0 # Qualification 라운드 에서는 이 값을 0.0으로 （在DEFAULT_THRESHOLD=0.0 # Qualification回合中，将此值设为0.0）\n",
    "# ------------------------------------------------\n",
    "\n",
    "def rebalancing( df, ratio_krw=DEFAULT_RATIO_KRW, ratio_btc=DEFAULT_RATIO_BTC, ratio_eth=DEFAULT_RATIO_ETH, ratio_doge=DEFAULT_RATIO_DOGE, ratio_ada=DEFAULT_RATIO_ADA, threshold=DEFAULT_THRESHOLD, fee=0.001, init_krw=100000000 ):\n",
    "\n",
    "    # -------------------------------------------------------------------------------\n",
    "    # DO NOT EDIT\n",
    "    #\n",
    "    ratio_sum = ratio_krw + ratio_btc + ratio_eth + ratio_doge + ratio_ada\n",
    "    if abs(ratio_sum - 1.0) > 0.0001:\n",
    "        print(f'The sum of the ratios must be 1. ({ratio_sum})')\n",
    "        return\n",
    "    # -------------------------------------------------------------------------------\n",
    "\n",
    "    row_index = 0\n",
    "\n",
    "    # 데이터프레임의 모든 행에 대해서 반복 （重复数据帧中的所有行）\n",
    "    for row_index in range( len( df ) ):\n",
    "\n",
    "        # 현재 데이터: cur_data  （现在的数据: cur_data）\n",
    "        cur_data = df.loc[ row_index, : ].copy()\n",
    "        # 이전 데이터: prev_data （以前的数据：prev_data）\n",
    "        if row_index > 0:\n",
    "            prev_data = df.loc[ row_index-1, : ].copy()\n",
    "\n",
    "\n",
    "\n",
    "        #------------------------\n",
    "        # Balance 계산 (bal_)。（计算 Balance (bal_)）\n",
    "        # 하루 전의 계산 후 잔고(bal2_)를 현재의 계산 전 잔고로 가져옴(bal_) （将前一天的计算后余额(bal2_) 导入当前计算前余额(bal_)）\n",
    "        if row_index == 0:\n",
    "            # 첫째 날이라면 잔고는 krw만 존재 （如果是第一天，余额就只有krw存在。） \n",
    "            cur_data[ 'bal_krw' ] = init_krw\n",
    "        else:\n",
    "            # 둘째 날 부터는 이전 날 계산 후 잔고(bal2_)를 현재 잔고(bal_)로 대입 （从第二天开始，将前一天计算后的余额(bal2_)代入当前余额(bal_)）\n",
    "            cur_data[ 'bal_krw' ] = prev_data[ 'bal2_krw' ]\n",
    "            cur_data[ 'bal_btc' ] = prev_data[ 'bal2_btc' ]\n",
    "            cur_data[ 'bal_eth' ] = prev_data[ 'bal2_eth' ]\n",
    "            cur_data[ 'bal_doge' ] = prev_data[ 'bal2_doge' ]\n",
    "            cur_data[ 'bal_ada' ] = prev_data[ 'bal2_ada' ]\n",
    "            \n",
    "\n",
    "        #------------------------\n",
    "        # Total Value 계산 (value) （计算总价值）\n",
    "        # 전체 자산의 가치를 모두 합산  （全部资产的价值总和）\n",
    "        cur_data[ 'value' ] = cur_data[ 'bal_krw' ]\n",
    "        cur_data[ 'value' ] += cur_data[ 'price_btc' ] * cur_data[ 'bal_btc' ]\n",
    "        cur_data[ 'value' ] += cur_data[ 'price_eth' ] * cur_data[ 'bal_eth' ]\n",
    "        cur_data[ 'value' ] += 0 # EDITABLE (4)\n",
    "        cur_data[ 'value' ] += 0 # EDITABLE (5)                                \n",
    "                                \n",
    "\n",
    "        #------------------------\n",
    "        # Target 계산 (target_)。（计算目标( target_)）\n",
    "        # 비율에 따라 다시 조정되어야 할 목표 잔고 계산 （按比例重新调整的目标余额计算）\n",
    "        cur_data[ 'target_btc' ] = ratio_btc * cur_data[ 'value' ] / cur_data[ 'price_btc' ]\n",
    "        cur_data[ 'target_eth' ] = ratio_eth * cur_data[ 'value' ] / cur_data[ 'price_eth' ]\n",
    "        cur_data[ 'target_doge' ] = 0    # EDITABLE (6)\n",
    "        cur_data[ 'target_ada' ] = 0     # EDITABLE (7)\n",
    "\n",
    "\n",
    "        #------------------------\n",
    "        # Trading Amount 계산 (trade_)  （交易额计算(trade_)）\n",
    "        # Target 잔고를 위해 매매해야 할 양을 계산 （Target 计算余额所需的交易量）\n",
    "        cur_data[ 'trade_btc' ] = cur_data[ 'target_btc' ] - cur_data[ 'bal_btc' ]\n",
    "        cur_data[ 'trade_eth' ] = cur_data[ 'target_eth' ] - cur_data[ 'bal_eth' ]\n",
    "        cur_data[ 'trade_doge' ] = 0    # EDITABLE (8)\n",
    "        cur_data[ 'trade_ada' ] = 0     # EDITABLE (9)\n",
    "\n",
    "\n",
    "        #------------------------\n",
    "        # 매매해야 할 양의 절대값이 총 자산의 일정 %를 넘지 않으면 매매하지 않음 （待购数量的绝对值不超过总资产的一定比例时，不进行买卖。）\n",
    "        th_value = threshold * cur_data[ 'value' ]\n",
    "        amount_btc = abs( cur_data[ 'trade_btc' ] * cur_data[ 'price_btc' ] )\n",
    "        amount_eth = abs( cur_data[ 'trade_eth' ] * cur_data[ 'price_eth' ] )\n",
    "        amount_doge = 0    # EDITABLE (10)\n",
    "        amount_ada = 0     # EDITABLE (11)\n",
    "\n",
    "        #--------------------------------------------------------------------------------------------------------------------\n",
    "        # DO NOT EDIT\n",
    "        # 계산 후 잔고 준비 （结账后余额准备）\n",
    "        cur_data[ 'bal2_krw' ] = cur_data[ 'bal_krw' ]\n",
    "        cur_data[ 'bal2_btc' ] = cur_data[ 'bal_btc' ]\n",
    "        cur_data[ 'bal2_eth' ] = cur_data[ 'bal_eth' ]\n",
    "        cur_data[ 'bal2_doge' ] = cur_data[ 'bal_doge' ]\n",
    "        cur_data[ 'bal2_ada' ] = cur_data[ 'bal_ada' ]\n",
    "\n",
    "        if amount_btc >= th_value:\n",
    "            # BTC 잔고 변경  （更改 BTC 余额）\n",
    "            cur_data[ 'bal2_btc' ] += cur_data[ 'trade_btc' ]\n",
    "            # krw 잔고 변경 (BTC 매매 반영 + 수수료 차감) （更改 krw 余额( 反映 BTC 交易 + 扣除手续费)）\n",
    "            cur_data[ 'bal2_krw' ] -= cur_data[ 'trade_btc' ] * cur_data[ 'price_btc' ] + amount_btc * fee\n",
    "\n",
    "        if amount_eth >= th_value:\n",
    "            # ETH 잔고 변경  （ETH余额变更）\n",
    "            cur_data[ 'bal2_eth' ] += cur_data[ 'trade_eth' ]\n",
    "            # krw 잔고 변경 (ETH 매매 반영 + 수수료 차감) （更改 krw 余额( 反映 ETH 交易 + 扣除手续费)）\n",
    "            cur_data[ 'bal2_krw' ] -= cur_data[ 'trade_eth' ] * cur_data[ 'price_eth' ] + amount_eth * fee\n",
    "\n",
    "        if amount_doge >= th_value:\n",
    "            # DOGE 잔고 변경  （更改 DOGE 余额）\n",
    "            cur_data[ 'bal2_doge' ] += cur_data[ 'trade_doge' ]\n",
    "            # krw 잔고 변경 (DOGE 매매 반영 + 수수료 차감) （更改 krw 余额( 反映 DOGE 交易 + 扣除手续费)）\n",
    "            cur_data[ 'bal2_krw' ] -= cur_data[ 'trade_doge' ] * cur_data[ 'price_doge' ] + amount_doge * fee\n",
    "\n",
    "        if amount_ada >= th_value:\n",
    "            # ADA 잔고 변경  （更改 ADA 余额）\n",
    "            cur_data[ 'bal2_ada' ] += cur_data[ 'trade_ada' ]\n",
    "            # krw 잔고 변경 (ADA 매매 반영 + 수수료 차감) （更改 krw 余额( 反映 ADA 买卖 + 扣除手续费)）\n",
    "            cur_data[ 'bal2_krw' ] -= cur_data[ 'trade_ada' ] * cur_data[ 'price_ada' ] + amount_ada * fee\n",
    "\n",
    "\n",
    "        #--------------------------------------------------------------------------------------------------------------------\n",
    "        # DO NOT EDIT\n",
    "        #\n",
    "        df.loc[ row_index, : ] = cur_data\n",
    "\n",
    "        row_index += 1\n",
    "        #--------------------------------------------------------------------------------------------------------------------\n",
    "\n",
    "\n"
   ],
   "metadata": {
    "id": "-ZdtSo-7zhgC"
   },
   "execution_count": 6,
   "outputs": []
  },
  {
   "cell_type": "code",
   "source": [
    "# 가격정보 가져오기（获取价格信息）\n",
    "\n",
    "from_date = '20210401'\n",
    "to_date = '20221101'\n",
    "\n",
    "df = trading_helper.get_multiple(from_date, to_date)\n",
    "\n",
    "\n",
    "df.head()"
   ],
   "metadata": {
    "id": "VKLTtAblVAzL"
   },
   "execution_count": 4,
   "outputs": [
    {
     "data": {
      "text/plain": "   Unnamed: 0.2  Unnamed: 0.1  Unnamed: 0                      index  \\\n0             0             0           0  2021-04-01 09:00:00+09:00   \n1             1             1           1  2021-04-02 09:00:00+09:00   \n2             2             2           2  2021-04-03 09:00:00+09:00   \n3             3             3           3  2021-04-04 09:00:00+09:00   \n4             4             4           4  2021-04-05 09:00:00+09:00   \n\n    price_btc  price_eth  price_doge  price_ada  bal_krw  bal_btc  ...  \\\n0  71480000.0  2333000.0        65.5     1455.0        0        0  ...   \n1  72749000.0  2436000.0        77.3     1465.0        0        0  ...   \n2  73934000.0  2679000.0        72.3     1495.0        0        0  ...   \n3  72187000.0  2544000.0        70.4     1470.0        0        0  ...   \n4  73908000.0  2636000.0        73.2     1510.0        0        0  ...   \n\n   bal2_ada  target_btc  target_eth  target_doge  target_ada  trade_btc  \\\n0         0           0           0            0           0          0   \n1         0           0           0            0           0          0   \n2         0           0           0            0           0          0   \n3         0           0           0            0           0          0   \n4         0           0           0            0           0          0   \n\n   trade_eth  trade_doge  trade_ada  value  \n0          0           0          0      0  \n1          0           0          0      0  \n2          0           0          0      0  \n3          0           0          0      0  \n4          0           0          0      0  \n\n[5 rows x 27 columns]",
      "text/html": "<div>\n<style scoped>\n    .dataframe tbody tr th:only-of-type {\n        vertical-align: middle;\n    }\n\n    .dataframe tbody tr th {\n        vertical-align: top;\n    }\n\n    .dataframe thead th {\n        text-align: right;\n    }\n</style>\n<table border=\"1\" class=\"dataframe\">\n  <thead>\n    <tr style=\"text-align: right;\">\n      <th></th>\n      <th>Unnamed: 0.2</th>\n      <th>Unnamed: 0.1</th>\n      <th>Unnamed: 0</th>\n      <th>index</th>\n      <th>price_btc</th>\n      <th>price_eth</th>\n      <th>price_doge</th>\n      <th>price_ada</th>\n      <th>bal_krw</th>\n      <th>bal_btc</th>\n      <th>...</th>\n      <th>bal2_ada</th>\n      <th>target_btc</th>\n      <th>target_eth</th>\n      <th>target_doge</th>\n      <th>target_ada</th>\n      <th>trade_btc</th>\n      <th>trade_eth</th>\n      <th>trade_doge</th>\n      <th>trade_ada</th>\n      <th>value</th>\n    </tr>\n  </thead>\n  <tbody>\n    <tr>\n      <th>0</th>\n      <td>0</td>\n      <td>0</td>\n      <td>0</td>\n      <td>2021-04-01 09:00:00+09:00</td>\n      <td>71480000.0</td>\n      <td>2333000.0</td>\n      <td>65.5</td>\n      <td>1455.0</td>\n      <td>0</td>\n      <td>0</td>\n      <td>...</td>\n      <td>0</td>\n      <td>0</td>\n      <td>0</td>\n      <td>0</td>\n      <td>0</td>\n      <td>0</td>\n      <td>0</td>\n      <td>0</td>\n      <td>0</td>\n      <td>0</td>\n    </tr>\n    <tr>\n      <th>1</th>\n      <td>1</td>\n      <td>1</td>\n      <td>1</td>\n      <td>2021-04-02 09:00:00+09:00</td>\n      <td>72749000.0</td>\n      <td>2436000.0</td>\n      <td>77.3</td>\n      <td>1465.0</td>\n      <td>0</td>\n      <td>0</td>\n      <td>...</td>\n      <td>0</td>\n      <td>0</td>\n      <td>0</td>\n      <td>0</td>\n      <td>0</td>\n      <td>0</td>\n      <td>0</td>\n      <td>0</td>\n      <td>0</td>\n      <td>0</td>\n    </tr>\n    <tr>\n      <th>2</th>\n      <td>2</td>\n      <td>2</td>\n      <td>2</td>\n      <td>2021-04-03 09:00:00+09:00</td>\n      <td>73934000.0</td>\n      <td>2679000.0</td>\n      <td>72.3</td>\n      <td>1495.0</td>\n      <td>0</td>\n      <td>0</td>\n      <td>...</td>\n      <td>0</td>\n      <td>0</td>\n      <td>0</td>\n      <td>0</td>\n      <td>0</td>\n      <td>0</td>\n      <td>0</td>\n      <td>0</td>\n      <td>0</td>\n      <td>0</td>\n    </tr>\n    <tr>\n      <th>3</th>\n      <td>3</td>\n      <td>3</td>\n      <td>3</td>\n      <td>2021-04-04 09:00:00+09:00</td>\n      <td>72187000.0</td>\n      <td>2544000.0</td>\n      <td>70.4</td>\n      <td>1470.0</td>\n      <td>0</td>\n      <td>0</td>\n      <td>...</td>\n      <td>0</td>\n      <td>0</td>\n      <td>0</td>\n      <td>0</td>\n      <td>0</td>\n      <td>0</td>\n      <td>0</td>\n      <td>0</td>\n      <td>0</td>\n      <td>0</td>\n    </tr>\n    <tr>\n      <th>4</th>\n      <td>4</td>\n      <td>4</td>\n      <td>4</td>\n      <td>2021-04-05 09:00:00+09:00</td>\n      <td>73908000.0</td>\n      <td>2636000.0</td>\n      <td>73.2</td>\n      <td>1510.0</td>\n      <td>0</td>\n      <td>0</td>\n      <td>...</td>\n      <td>0</td>\n      <td>0</td>\n      <td>0</td>\n      <td>0</td>\n      <td>0</td>\n      <td>0</td>\n      <td>0</td>\n      <td>0</td>\n      <td>0</td>\n      <td>0</td>\n    </tr>\n  </tbody>\n</table>\n<p>5 rows × 27 columns</p>\n</div>"
     },
     "execution_count": 4,
     "metadata": {},
     "output_type": "execute_result"
    }
   ]
  },
  {
   "cell_type": "markdown",
   "source": [
    "### 하나씩 비율을 조절하며 HPR, MDD 를 확인해 보는 방법 \n",
    "#（逐一调整比例，确认HPR、MDD的方法）"
   ],
   "metadata": {
    "id": "7eSOfPDyYQuq"
   }
  },
  {
   "cell_type": "code",
   "source": [
    "# 비트코인만 100% （只有比特币是100%）\n",
    "\n",
    "rebalancing( df, ratio_krw=0.0, ratio_btc=1.0, ratio_eth=0.0, ratio_doge=0.0, ratio_ada=0.0, threshold= 0.0001 )\n",
    "\n",
    "hpr, mdd = trading_helper.check_performance_rebal(df)\n",
    "\n",
    "print( f'HPR={hpr*100:.1f} MDD={mdd*100:.1f}' )\n"
   ],
   "metadata": {
    "id": "99vdq_Sl_bch"
   },
   "execution_count": 8,
   "outputs": [
    {
     "name": "stdout",
     "output_type": "stream",
     "text": [
      "HPR=-59.3 MDD=69.2\n"
     ]
    }
   ]
  },
  {
   "cell_type": "code",
   "source": [
    "# 비트코인 60% 이더리움 40% （60%的比特币是Ethereum 40%）\n",
    "\n",
    "rebalancing( df, ratio_krw=0.0, ratio_btc=0.6, ratio_eth=0.4, ratio_doge=0.0, ratio_ada=0.0, threshold= 0.0001 )\n",
    "\n",
    "hpr, mdd = trading_helper.check_performance_rebal(df)\n",
    "\n",
    "print( f'HPR={hpr*100:.1f} MDD={mdd*100:.1f}' )\n"
   ],
   "metadata": {
    "id": "ya-M1T8lD4re"
   },
   "execution_count": 9,
   "outputs": [
    {
     "name": "stdout",
     "output_type": "stream",
     "text": [
      "HPR=-39.7 MDD=72.5\n"
     ]
    }
   ]
  },
  {
   "cell_type": "markdown",
   "source": [
    "### 비트코인, 이더리움, 도지코인, 에이다 그냥 가지고 있을 때와 리밸런싱 전략 4개의 HPR, MDD 비교\n",
    "# 比特币、Ethereum、Dogecoin、Ada 仅拥有和rebalancing战略 4 种HPR、MDD比较"
   ],
   "metadata": {
    "id": "AKYgDNdJYbvF"
   }
  },
  {
   "cell_type": "code",
   "source": [
    "\n",
    "rebalancing( df, ratio_krw=0.0, ratio_btc=1.0, ratio_eth=0.0, ratio_doge=0.0, ratio_ada=0.0 )\n",
    "s_btc = df['value'].copy()\n",
    "hpr, mdd = trading_helper.check_performance_rebal(df)\n",
    "print( f'HPR={hpr*100:.1f} MDD={mdd*100:.1f}' )\n",
    "\n",
    "rebalancing( df, ratio_krw=0.0, ratio_btc=0.0, ratio_eth=1.0, ratio_doge=0.0, ratio_ada=0.0 )\n",
    "s_eth = df['value'].copy()\n",
    "hpr, mdd = trading_helper.check_performance_rebal(df)\n",
    "print( f'HPR={hpr*100:.1f} MDD={mdd*100:.1f}' )\n",
    "\n",
    "rebalancing( df, ratio_krw=0.0, ratio_btc=0.0, ratio_eth=0.0, ratio_doge=1.0, ratio_ada=0.0 )\n",
    "s_doge = df['value'].copy()\n",
    "hpr, mdd = trading_helper.check_performance_rebal(df)\n",
    "print( f'HPR={hpr*100:.1f} MDD={mdd*100:.1f}' )\n",
    "\n",
    "rebalancing( df, ratio_krw=0.0, ratio_btc=0.0, ratio_eth=0.0, ratio_doge=0.0, ratio_ada=1.0 )\n",
    "s_ada = df['value'].copy()\n",
    "hpr, mdd = trading_helper.check_performance_rebal(df)\n",
    "print( f'HPR={hpr*100:.1f} MDD={mdd*100:.1f}' )\n",
    "\n",
    "rebalancing( df, ratio_krw=0.7, ratio_btc=0.1, ratio_eth=0.1, ratio_doge=0.05, ratio_ada=0.05 )\n",
    "s1 = df['value'].copy()\n",
    "hpr, mdd = trading_helper.check_performance_rebal(df)\n",
    "print( f'HPR={hpr*100:.1f} MDD={mdd*100:.1f}' )\n",
    "\n",
    "rebalancing( df, ratio_krw=0.6, ratio_btc=0.2, ratio_eth=0.1, ratio_doge=0.05, ratio_ada=0.05 )\n",
    "s2 = df['value'].copy()\n",
    "hpr, mdd = trading_helper.check_performance_rebal(df)\n",
    "print( f'HPR={hpr*100:.1f} MDD={mdd*100:.1f}' )\n",
    "\n",
    "rebalancing( df, ratio_krw=0.3, ratio_btc=0.2, ratio_eth=0.3, ratio_doge=0.1, ratio_ada=0.1 )\n",
    "s3 = df['value'].copy()\n",
    "hpr, mdd = trading_helper.check_performance_rebal(df)\n",
    "print( f'HPR={hpr*100:.1f} MDD={mdd*100:.1f}' )\n",
    "\n",
    "rebalancing( df, ratio_krw=0.2, ratio_btc=0.2, ratio_eth=0.2, ratio_doge=0.2, ratio_ada=0.2 )\n",
    "s4 = df['value'].copy()\n",
    "hpr, mdd = trading_helper.check_performance_rebal(df)\n",
    "print( f'HPR={hpr*100:.1f} MDD={mdd*100:.1f}' )\n"
   ],
   "metadata": {
    "id": "9l4pB45uZVzq"
   },
   "execution_count": 7,
   "outputs": [
    {
     "name": "stdout",
     "output_type": "stream",
     "text": [
      "HPR=-59.3 MDD=69.2\n",
      "HPR=-3.1 MDD=77.4\n",
      "HPR=0.0 MDD=0.0\n",
      "HPR=0.0 MDD=0.0\n",
      "HPR=-2.6 MDD=21.7\n",
      "HPR=-9.8 MDD=30.1\n",
      "HPR=-6.7 MDD=47.5\n",
      "HPR=-7.8 MDD=39.3\n"
     ]
    }
   ]
  },
  {
   "cell_type": "code",
   "source": [
    "\n",
    "for i in np.arange(0, 0.6, 0.1):\n",
    "    x = i\n",
    "    y = 0.5 - i\n",
    "\n",
    "    print( x, y, end=' ' )\n",
    "\n",
    "    rebalancing( df, ratio_krw= 0.5, ratio_btc=0, ratio_eth=0, ratio_doge=x, ratio_ada=y )\n",
    "    s4 = df['value'].copy()\n",
    "    hpr, mdd = trading_helper.check_performance_rebal(df)\n",
    "    print( f'HPR={hpr*100:.1f} MDD={mdd*100:.1f}' )\n"
   ],
   "metadata": {
    "id": "C_swfk0vnV1v"
   },
   "execution_count": 11,
   "outputs": [
    {
     "name": "stdout",
     "output_type": "stream",
     "text": [
      "0.0 0.5 HPR=0.0 MDD=0.0\n",
      "0.1 0.4 HPR=0.0 MDD=0.0\n",
      "0.2 0.3 HPR=0.0 MDD=0.0\n",
      "0.30000000000000004 0.19999999999999996 HPR=0.0 MDD=0.0\n",
      "0.4 0.09999999999999998 HPR=0.0 MDD=0.0\n",
      "0.5 0.0 HPR=0.0 MDD=0.0\n"
     ]
    }
   ]
  },
  {
   "cell_type": "markdown",
   "source": [
    "### 그래프 그려보기\n",
    "### 绘制图表"
   ],
   "metadata": {
    "id": "zlNi9iLkYumn"
   }
  },
  {
   "cell_type": "code",
   "source": [
    "\n",
    "df2 = pd.DataFrame()\n",
    "# df2['BTC'] = s_btc\n",
    "# df2['ETH'] = s_eth\n",
    "df2['DOGE'] = s_doge\n",
    "df2['ADA'] = s_ada\n",
    "# df2['strategy1'] = s1\n",
    "df2['strategy2'] = s2\n",
    "# df2['strategy3'] = s3\n",
    "# df2['strategy4'] = s4\n",
    "\n",
    "df2.plot( figsize=(15,3) )"
   ],
   "metadata": {
    "id": "939Vkn6o_TfX"
   },
   "execution_count": 13,
   "outputs": [
    {
     "data": {
      "text/plain": "<AxesSubplot: >"
     },
     "execution_count": 13,
     "metadata": {},
     "output_type": "execute_result"
    },
    {
     "data": {
      "text/plain": "<Figure size 1500x300 with 1 Axes>",
      "image/png": "[encoded data removed]"
     },
     "metadata": {},
     "output_type": "display_data"
    }
   ]
  }
 ]
}
